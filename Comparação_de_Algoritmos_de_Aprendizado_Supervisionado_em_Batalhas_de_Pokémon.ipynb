{
  "nbformat": 4,
  "nbformat_minor": 0,
  "metadata": {
    "colab": {
      "provenance": [],
      "include_colab_link": true
    },
    "kernelspec": {
      "name": "python3",
      "display_name": "Python 3"
    },
    "language_info": {
      "name": "python"
    }
  },
  "cells": [
    {
      "cell_type": "markdown",
      "metadata": {
        "id": "view-in-github",
        "colab_type": "text"
      },
      "source": [
        "<a href=\"https://colab.research.google.com/github/LucasMagras/arvore_decisao_KNN-_SVM/blob/main/Compara%C3%A7%C3%A3o_de_Algoritmos_de_Aprendizado_Supervisionado_em_Batalhas_de_Pok%C3%A9mon.ipynb\" target=\"_parent\"><img src=\"https://colab.research.google.com/assets/colab-badge.svg\" alt=\"Open In Colab\"/></a>"
      ]
    },
    {
      "cell_type": "markdown",
      "source": [
        "Árvore de Decisão Simples"
      ],
      "metadata": {
        "id": "S9szg2167Iz8"
      }
    },
    {
      "cell_type": "code",
      "execution_count": null,
      "metadata": {
        "colab": {
          "base_uri": "https://localhost:8080/"
        },
        "id": "DE0CPzNC68Dv",
        "outputId": "4e154c21-d693-4408-e6f9-b94c5253d03d"
      },
      "outputs": [
        {
          "output_type": "stream",
          "name": "stdout",
          "text": [
            "Você gosta de resolver problemas complexos? (sim / no): no\n",
            "Você gosta de se comunicar com outras pessoas? (sim / no): no\n",
            "Sugestão: Talvez você se interesse por pelo meio artístico, ou esportes individuais como natação.\n"
          ]
        }
      ],
      "source": [
        "def arvore_decisao () :\n",
        "  complexos = input(\"Você gosta de resolver problemas complexos? (sim / no): \").strip().lower()\n",
        "\n",
        "  if complexos == \"sim\":\n",
        "    numeros = input(\"Gosta de trabalhar com números? (sim / no): \").strip().lower()\n",
        "    if numeros == \"sim\":\n",
        "      tecnologia = input(\"Gosta de trabalhar com tecnologia? (sim / no): \").strip().lower()\n",
        "      if tecnologia == \"sim\":\n",
        "        print(\"Sugestão: Talvez você se interesse por engenharia e programação de computadores.\")\n",
        "      else:\n",
        "        print(\"Sugetão: Talvez você se interesse por economia e contabilidade.\")\n",
        "    else:\n",
        "      cuidar = input(\"Você gosta de cuidar de pessoas? (sim / no): \").strip().lower()\n",
        "      if cuidar == \"sim\":\n",
        "        print(\"Sugestão: Talvez você se interesse pela área de sáude.\")\n",
        "      else:\n",
        "        logistica = input(\"Você gosta de trabalhar com logística? (sim / no): \").strip().lower()\n",
        "        if logistica == \"sim\":\n",
        "          print(\"Sugestão: Talvez você se interesse pela área de logística, empreendedorismo e administração.\")\n",
        "        else:\n",
        "          print(\"Sugestão: Talvez você se interesse pela área de Direito, Filosofia e matérias humanas do tipo.\")\n",
        "  else:\n",
        "    comunicacao = input(\"Você gosta de se comunicar com outras pessoas? (sim / no): \").strip().lower()\n",
        "    if comunicacao == \"sim\":\n",
        "      equipe = input(\"Você gosta de trabalhar em equipe? (sim / no): \").strip().lower()\n",
        "      if equipe == \"sim\":\n",
        "        arlivre = input(\"Você gosta de realizar atividades ao ar livre? (sim / no): \").strip().lower()\n",
        "        if arlivre == \"sim\":\n",
        "          fisico = input(\"Você gosta de trabalhar em atividades físicas? (sim / no): \").strip().lower()\n",
        "          if fisico == \"sim\":\n",
        "            print(\"Sugestão: Talvez você se interesse por esportes e atividades mais físicas.\")\n",
        "          else:\n",
        "            print(\"Sugestão: Talvez você se interesse por jardinagem, fotografia e jornalismo.\")\n",
        "        else:\n",
        "          print(\"Sugestão: Talvez você se interesse por práticar música.\")\n",
        "      else:\n",
        "        artistico = input(\"Você gosta do ramo artístico? (sim / no): \").strip().lower()\n",
        "        if artistico == \"sim\":\n",
        "          print(\"Sugestão: Talvez você se interesse por pintura, artes e fotografia.\")\n",
        "        else:\n",
        "          print(\"Sugestão: Talvez você se interesse por jornalismo ou turismo.\")\n",
        "    else:\n",
        "      print(\"Sugestão: Talvez você se interesse pelo meio artístico, ou esportes individuais como natação.\")\n",
        "\n",
        "arvore_decisao ()\n"
      ]
    },
    {
      "cell_type": "markdown",
      "source": [
        "Exploração de Datasets no Kaggle - Árvore de Decisão"
      ],
      "metadata": {
        "id": "nEi-uL6iABMs"
      }
    },
    {
      "cell_type": "code",
      "source": [
        "import pandas as pd\n",
        "import numpy as np\n",
        "from sklearn.model_selection import train_test_split\n",
        "from sklearn.ensemble import RandomForestClassifier\n",
        "from sklearn.metrics import accuracy_score\n",
        "\n",
        "# Matriz de vantagens e desvantagens de tipo\n",
        "type_effectiveness = {\n",
        "    \"Normal\":    {\"Rock\": 0.5, \"Ghost\": 0, \"Steel\": 0.5},\n",
        "    \"Fire\":      {\"Fire\": 0.5, \"Water\": 0.5, \"Grass\": 2, \"Ice\": 2, \"Bug\": 2, \"Rock\": 0.5, \"Dragon\": 0.5, \"Steel\": 2},\n",
        "    \"Water\":     {\"Fire\": 2, \"Water\": 0.5, \"Grass\": 0.5, \"Ground\": 2, \"Rock\": 2, \"Dragon\": 0.5},\n",
        "    \"Grass\":     {\"Fire\": 0.5, \"Water\": 2, \"Grass\": 0.5, \"Poison\": 0.5, \"Ground\": 2, \"Flying\": 0.5, \"Bug\": 0.5, \"Rock\": 2, \"Dragon\": 0.5, \"Steel\": 0.5},\n",
        "    \"Electric\":  {\"Water\": 2, \"Electric\": 0.5, \"Grass\": 0.5, \"Ground\": 0, \"Flying\": 2, \"Dragon\": 0.5},\n",
        "    \"Ice\":       {\"Fire\": 0.5, \"Water\": 0.5, \"Grass\": 2, \"Ice\": 0.5, \"Ground\": 2, \"Flying\": 2, \"Dragon\": 2, \"Steel\": 0.5},\n",
        "    \"Fighting\":  {\"Normal\": 2, \"Ice\": 2, \"Rock\": 2, \"Dark\": 2, \"Steel\": 2, \"Poison\": 0.5, \"Flying\": 0.5, \"Psychic\": 0.5, \"Bug\": 0.5, \"Fairy\": 0.5, \"Ghost\": 0},\n",
        "    \"Poison\":    {\"Grass\": 2, \"Poison\": 0.5, \"Ground\": 0.5, \"Rock\": 0.5, \"Ghost\": 0.5, \"Steel\": 0, \"Fairy\": 2},\n",
        "    \"Ground\":    {\"Fire\": 2, \"Electric\": 2, \"Grass\": 0.5, \"Poison\": 2, \"Flying\": 0, \"Bug\": 0.5, \"Rock\": 2, \"Steel\": 2},\n",
        "    \"Flying\":    {\"Grass\": 2, \"Electric\": 0.5, \"Fighting\": 2, \"Bug\": 2, \"Rock\": 0.5, \"Steel\": 0.5},\n",
        "    \"Psychic\":   {\"Fighting\": 2, \"Poison\": 2, \"Psychic\": 0.5, \"Dark\": 0, \"Steel\": 0.5},\n",
        "    \"Bug\":       {\"Fire\": 0.5, \"Grass\": 2, \"Fighting\": 0.5, \"Poison\": 0.5, \"Flying\": 0.5, \"Psychic\": 2, \"Ghost\": 0.5, \"Dark\": 2, \"Steel\": 0.5, \"Fairy\": 0.5},\n",
        "    \"Rock\":      {\"Fire\": 2, \"Ice\": 2, \"Fighting\": 0.5, \"Ground\": 0.5, \"Flying\": 2, \"Bug\": 2, \"Steel\": 0.5},\n",
        "    \"Ghost\":     {\"Normal\": 0, \"Psychic\": 2, \"Ghost\": 2, \"Dark\": 0.5},\n",
        "    \"Dragon\":    {\"Dragon\": 2, \"Steel\": 0.5, \"Fairy\": 0},\n",
        "    \"Dark\":      {\"Fighting\": 0.5, \"Psychic\": 2, \"Bug\": 0.5, \"Ghost\": 2, \"Dark\": 0.5, \"Fairy\": 0.5},\n",
        "    \"Steel\":     {\"Fire\": 0.5, \"Water\": 0.5, \"Electric\": 0.5, \"Ice\": 2, \"Rock\": 2, \"Steel\": 0.5, \"Fairy\": 2},\n",
        "    \"Fairy\":     {\"Fighting\": 2, \"Dragon\": 2, \"Dark\": 2, \"Fire\": 0.5, \"Poison\": 0.5, \"Steel\": 0.5},\n",
        "}\n",
        "\n",
        "# Função para calcular o multiplicador de tipos\n",
        "def calculate_type_multiplier(attacker_type, defender_type):\n",
        "    if attacker_type in type_effectiveness and defender_type in type_effectiveness[attacker_type]:\n",
        "        return type_effectiveness[attacker_type][defender_type]\n",
        "    return 1\n",
        "\n",
        "# Carregar os dados do CSV\n",
        "file_path = 'Pokemon.csv'\n",
        "pokemon_data = pd.read_csv(file_path)\n",
        "\n",
        "# Separar Pokémon para treino (até a linha 554) e teste (555 até 801)\n",
        "pokemon_train = pokemon_data.iloc[:554]\n",
        "pokemon_test = pokemon_data.iloc[554:]\n",
        "\n",
        "print(f\"Pokémon no treino: {pokemon_train.shape[0]}\")\n",
        "print(f\"Pokémon no teste: {pokemon_test.shape[0]}\")\n",
        "\n",
        "# Função para simular batalhas e gerar o dataset\n",
        "def generate_battle_data(pokemon_data, num_battles=10000):\n",
        "    battle_data = []\n",
        "    for _ in range(num_battles):\n",
        "        # Escolher dois Pokémons aleatórios do mesmo conjunto (treino ou teste)\n",
        "        pokemon1 = pokemon_data.sample(1).iloc[0]\n",
        "        pokemon2 = pokemon_data.sample(1).iloc[0]\n",
        "\n",
        "        # Calcular as diferenças nos atributos\n",
        "        feature_diff = {\n",
        "            \"Pokemon1_ID\": pokemon1[\"#\"],\n",
        "            \"Pokemon2_ID\": pokemon2[\"#\"],\n",
        "            \"HP_Diff\": pokemon1[\"HP\"] - pokemon2[\"HP\"],\n",
        "            \"Attack_Diff\": pokemon1[\"Attack\"] - pokemon2[\"Attack\"],\n",
        "            \"Defense_Diff\": pokemon1[\"Defense\"] - pokemon2[\"Defense\"],\n",
        "            \"Sp_Atk_Diff\": pokemon1[\"Sp. Atk\"] - pokemon2[\"Sp. Atk\"],\n",
        "            \"Sp_Def_Diff\": pokemon1[\"Sp. Def\"] - pokemon2[\"Sp. Def\"],\n",
        "            \"Speed_Diff\": pokemon1[\"Speed\"] - pokemon2[\"Speed\"],\n",
        "        }\n",
        "\n",
        "        # Calcular os multiplicadores de tipo\n",
        "        multiplier1 = calculate_type_multiplier(pokemon1[\"Type 1\"], pokemon2[\"Type 1\"]) * calculate_type_multiplier(pokemon1[\"Type 2\"], pokemon2[\"Type 2\"])\n",
        "        multiplier2 = calculate_type_multiplier(pokemon2[\"Type 1\"], pokemon1[\"Type 1\"]) * calculate_type_multiplier(pokemon2[\"Type 2\"], pokemon1[\"Type 2\"])\n",
        "\n",
        "        # Adicionar os multiplicadores como features\n",
        "        feature_diff[\"Type_Multiplier_1\"] = multiplier1\n",
        "        feature_diff[\"Type_Multiplier_2\"] = multiplier2\n",
        "\n",
        "        # Definir o vencedor\n",
        "        damage1 = (pokemon1[\"Attack\"] + pokemon1[\"Sp. Atk\"]) * multiplier1\n",
        "        damage2 = (pokemon2[\"Attack\"] + pokemon2[\"Sp. Atk\"]) * multiplier2\n",
        "        winner = 1 if damage1 > damage2 else 0\n",
        "\n",
        "        # Adicionar ao dataset\n",
        "        battle_data.append({**feature_diff, \"Winner\": winner})\n",
        "    return pd.DataFrame(battle_data)\n",
        "\n",
        "# Gerar datasets de batalha\n",
        "battle_train_dataset = generate_battle_data(pokemon_train)\n",
        "battle_test_dataset = generate_battle_data(pokemon_test)\n",
        "\n",
        "# Salvar os datasets\n",
        "battle_train_dataset.to_csv('battle_train_data.csv', index=False)\n",
        "battle_test_dataset.to_csv('battle_test_data.csv', index=False)\n",
        "\n",
        "# Dividir os dados corretamente\n",
        "X_train = battle_train_dataset.drop(\"Winner\", axis=1)\n",
        "y_train = battle_train_dataset[\"Winner\"]\n",
        "\n",
        "X_test = battle_test_dataset.drop(\"Winner\", axis=1)\n",
        "y_test = battle_test_dataset[\"Winner\"]\n",
        "\n",
        "# Treinar o modelo\n",
        "model = RandomForestClassifier(n_estimators=100, random_state=42)\n",
        "model.fit(X_train, y_train)\n",
        "\n",
        "# Avaliar o modelo\n",
        "y_pred = model.predict(X_test)\n",
        "accuracy = accuracy_score(y_test, y_pred)\n",
        "\n",
        "print(f\"Acurácia ao testar com Pokémon NUNCA vistos no treino: {accuracy * 100:.2f}%\")\n",
        "\n",
        "# Função para prever o vencedor entre dois Pokémons\n",
        "def predict_winner(pokemon1, pokemon2, model):\n",
        "    feature_diff = {\n",
        "        \"Pokemon1_ID\": pokemon1[\"#\"],\n",
        "        \"Pokemon2_ID\": pokemon2[\"#\"],\n",
        "        \"HP_Diff\": pokemon1[\"HP\"] - pokemon2[\"HP\"],\n",
        "        \"Attack_Diff\": pokemon1[\"Attack\"] - pokemon2[\"Attack\"],\n",
        "        \"Defense_Diff\": pokemon1[\"Defense\"] - pokemon2[\"Defense\"],\n",
        "        \"Sp_Atk_Diff\": pokemon1[\"Sp. Atk\"] - pokemon2[\"Sp. Atk\"],\n",
        "        \"Sp_Def_Diff\": pokemon1[\"Sp. Def\"] - pokemon2[\"Sp. Def\"],\n",
        "        \"Speed_Diff\": pokemon1[\"Speed\"] - pokemon2[\"Speed\"],\n",
        "        \"Type_Multiplier_1\": calculate_type_multiplier(pokemon1[\"Type 1\"], pokemon2[\"Type 1\"]) * calculate_type_multiplier(pokemon1[\"Type 2\"], pokemon2[\"Type 2\"]),\n",
        "        \"Type_Multiplier_2\": calculate_type_multiplier(pokemon2[\"Type 1\"], pokemon1[\"Type 1\"]) * calculate_type_multiplier(pokemon2[\"Type 2\"], pokemon1[\"Type 2\"]),\n",
        "    }\n",
        "    prediction = model.predict(pd.DataFrame([feature_diff]))[0]\n",
        "    return pokemon1[\"Name\"] if prediction == 1 else pokemon2[\"Name\"]\n",
        "\n",
        "# Testar com dois Pokémons aleatórios do TESTE\n",
        "pokemon1 = pokemon_test.sample(1).iloc[0]\n",
        "pokemon2 = pokemon_test.sample(1).iloc[0]\n",
        "vencedor = predict_winner(pokemon1, pokemon2, model)\n",
        "\n",
        "print(f\"Batalha entre {pokemon1['Name']} e {pokemon2['Name']}\")\n",
        "print(f\"O vencedor previsto é: {vencedor}\")"
      ],
      "metadata": {
        "id": "jtdc2p-KOERU",
        "colab": {
          "base_uri": "https://localhost:8080/"
        },
        "outputId": "934ccf8e-8408-45f9-849a-b01c83c3be81"
      },
      "execution_count": null,
      "outputs": [
        {
          "output_type": "stream",
          "name": "stdout",
          "text": [
            "Pokémon no treino: 554\n",
            "Pokémon no teste: 246\n",
            "Acurácia ao testar com Pokémon NUNCA vistos no treino: 97.84%\n",
            "Batalha entre Ferroseed e Bisharp\n",
            "O vencedor previsto é: Bisharp\n"
          ]
        }
      ]
    },
    {
      "cell_type": "markdown",
      "source": [
        "# KNN"
      ],
      "metadata": {
        "id": "lQTC1C2S9PgL"
      }
    },
    {
      "cell_type": "code",
      "source": [
        "import pandas as pd\n",
        "import numpy as np\n",
        "from sklearn.preprocessing import StandardScaler\n",
        "from sklearn.neighbors import KNeighborsClassifier\n",
        "from sklearn.metrics import accuracy_score\n",
        "\n",
        "# Carregar datasets de batalha separados\n",
        "battle_data_train = pd.read_csv('battle_train_data.csv')\n",
        "battle_data_test = pd.read_csv('battle_test_data.csv')\n",
        "\n",
        "# Separar features (X) e rótulo (y) para treino e teste\n",
        "X_train = battle_data_train.drop(columns=[\"Winner\", \"Pokemon1_ID\", \"Pokemon2_ID\"])  # Remover IDs dos Pokémons\n",
        "y_train = battle_data_train[\"Winner\"]\n",
        "\n",
        "X_test = battle_data_test.drop(columns=[\"Winner\", \"Pokemon1_ID\", \"Pokemon2_ID\"])\n",
        "y_test = battle_data_test[\"Winner\"]\n",
        "\n",
        "# Normalizar os dados (importante para o KNN)\n",
        "scaler = StandardScaler()\n",
        "X_train_scaled = scaler.fit_transform(X_train)\n",
        "X_test_scaled = scaler.transform(X_test)\n",
        "\n",
        "# Treinar o modelo KNN\n",
        "knn = KNeighborsClassifier(n_neighbors=5, weights='distance')\n",
        "knn.fit(X_train_scaled, y_train)\n",
        "\n",
        "# Avaliação do modelo\n",
        "y_pred_knn = knn.predict(X_test_scaled)\n",
        "accuracy_knn = accuracy_score(y_test, y_pred_knn)\n",
        "print(f\"Acurácia do modelo KNN: {accuracy_knn * 100:.2f}%\")\n",
        "\n",
        "# Carregar dados dos Pokémon para nomear os vencedores\n",
        "pokemon_data = pd.read_csv('Pokemon.csv')\n",
        "\n",
        "# Filtrar Pokémons para o conjunto de teste (linhas 555 a 801)\n",
        "pokemon_test_data = pokemon_data.iloc[554:]  # Pegando Pokémon a partir da linha 555\n",
        "\n",
        "def predict_winner_knn(pokemon1, pokemon2, model, scaler):\n",
        "    feature_diff = {\n",
        "        \"HP_Diff\": pokemon1[\"HP\"] - pokemon2[\"HP\"],\n",
        "        \"Attack_Diff\": pokemon1[\"Attack\"] - pokemon2[\"Attack\"],\n",
        "        \"Defense_Diff\": pokemon1[\"Defense\"] - pokemon2[\"Defense\"],\n",
        "        \"Sp_Atk_Diff\": pokemon1[\"Sp. Atk\"] - pokemon2[\"Sp. Atk\"],\n",
        "        \"Sp_Def_Diff\": pokemon1[\"Sp. Def\"] - pokemon2[\"Sp. Def\"],\n",
        "        \"Speed_Diff\": pokemon1[\"Speed\"] - pokemon2[\"Speed\"],\n",
        "        \"Type_Multiplier_1\": calculate_type_multiplier(pokemon1[\"Type 1\"], pokemon2[\"Type 1\"]) * calculate_type_multiplier(pokemon1[\"Type 2\"], pokemon2[\"Type 2\"]),\n",
        "        \"Type_Multiplier_2\": calculate_type_multiplier(pokemon2[\"Type 1\"], pokemon1[\"Type 1\"]) * calculate_type_multiplier(pokemon2[\"Type 2\"], pokemon1[\"Type 2\"]),\n",
        "    }\n",
        "\n",
        "    # Normalizar os dados de entrada\n",
        "    feature_df = pd.DataFrame([feature_diff])\n",
        "    feature_scaled = scaler.transform(feature_df)\n",
        "\n",
        "    # Fazer a predição\n",
        "    prediction = model.predict(feature_scaled)[0]\n",
        "\n",
        "    return pokemon1[\"Name\"] if prediction == 1 else pokemon2[\"Name\"]\n",
        "\n",
        "# Teste com dois Pokémons aleatórios do conjunto de teste\n",
        "pokemon1 = pokemon_test_data.sample(1).iloc[0]  # Seleciona aleatoriamente um Pokémon do conjunto de teste\n",
        "pokemon2 = pokemon_test_data.sample(1).iloc[0]  # Seleciona outro Pokémon do conjunto de teste\n",
        "vencedor = predict_winner_knn(pokemon1, pokemon2, knn, scaler)\n",
        "\n",
        "print(f\"Batalha entre {pokemon1['Name']} e {pokemon2['Name']}\")\n",
        "print(f\"O vencedor previsto pelo KNN é: {vencedor}\")"
      ],
      "metadata": {
        "colab": {
          "base_uri": "https://localhost:8080/"
        },
        "id": "M02l8rJf9VWd",
        "outputId": "913edd79-b2a5-4990-8695-fe27e8698ffb"
      },
      "execution_count": null,
      "outputs": [
        {
          "output_type": "stream",
          "name": "stdout",
          "text": [
            "Acurácia do modelo KNN: 94.94%\n",
            "Batalha entre Swirlix e Solosis\n",
            "O vencedor previsto pelo KNN é: Solosis\n"
          ]
        }
      ]
    },
    {
      "cell_type": "markdown",
      "source": [
        "# SVM"
      ],
      "metadata": {
        "id": "onkFMiDN-hmo"
      }
    },
    {
      "cell_type": "code",
      "source": [
        "import pandas as pd\n",
        "import numpy as np\n",
        "from sklearn.model_selection import train_test_split\n",
        "from sklearn.svm import SVC\n",
        "from sklearn.preprocessing import StandardScaler\n",
        "from sklearn.metrics import accuracy_score\n",
        "\n",
        "# Carregar datasets de batalha separados\n",
        "battle_data_train = pd.read_csv('battle_train_data.csv')\n",
        "battle_data_test = pd.read_csv('battle_test_data.csv')\n",
        "\n",
        "# Separar features (X) e rótulo (y) para treino e teste\n",
        "X_train = battle_data_train.drop(columns=[\"Winner\", \"Pokemon1_ID\", \"Pokemon2_ID\"])  # Remover IDs dos Pokémons\n",
        "y_train = battle_data_train[\"Winner\"]\n",
        "\n",
        "X_test = battle_data_test.drop(columns=[\"Winner\", \"Pokemon1_ID\", \"Pokemon2_ID\"])\n",
        "y_test = battle_data_test[\"Winner\"]\n",
        "\n",
        "# Normalizar os dados (importante para SVM)\n",
        "scaler = StandardScaler()\n",
        "X_train_scaled = scaler.fit_transform(X_train)\n",
        "X_test_scaled = scaler.transform(X_test)\n",
        "\n",
        "# Treinar o modelo SVM\n",
        "svm_model = SVC(kernel='linear', random_state=42)\n",
        "svm_model.fit(X_train_scaled, y_train)\n",
        "\n",
        "# Avaliação do modelo\n",
        "y_pred_svm = svm_model.predict(X_test_scaled)\n",
        "accuracy_svm = accuracy_score(y_test, y_pred_svm)\n",
        "print(f\"Acurácia do modelo SVM: {accuracy_svm * 100:.2f}%\")\n",
        "\n",
        "# Carregar dados dos Pokémon para nomear os vencedores\n",
        "pokemon_data = pd.read_csv('Pokemon.csv')\n",
        "\n",
        "# Filtrar Pokémons para o conjunto de teste (linhas 555 a 801)\n",
        "pokemon_test_data = pokemon_data.iloc[554:]  # Pegando Pokémon a partir da linha 555\n",
        "\n",
        "# Função para prever o vencedor e exibir o nome do Pokémon\n",
        "def predict_winner_svm(pokemon1, pokemon2, model, scaler):\n",
        "    feature_diff = {\n",
        "        \"HP_Diff\": pokemon1[\"HP\"] - pokemon2[\"HP\"],\n",
        "        \"Attack_Diff\": pokemon1[\"Attack\"] - pokemon2[\"Attack\"],\n",
        "        \"Defense_Diff\": pokemon1[\"Defense\"] - pokemon2[\"Defense\"],\n",
        "        \"Sp_Atk_Diff\": pokemon1[\"Sp. Atk\"] - pokemon2[\"Sp. Atk\"],\n",
        "        \"Sp_Def_Diff\": pokemon1[\"Sp. Def\"] - pokemon2[\"Sp. Def\"],\n",
        "        \"Speed_Diff\": pokemon1[\"Speed\"] - pokemon2[\"Speed\"],\n",
        "        \"Type_Multiplier_1\": calculate_type_multiplier(pokemon1[\"Type 1\"], pokemon2[\"Type 1\"]) * calculate_type_multiplier(pokemon1[\"Type 2\"], pokemon2[\"Type 2\"]),\n",
        "        \"Type_Multiplier_2\": calculate_type_multiplier(pokemon2[\"Type 1\"], pokemon1[\"Type 1\"]) * calculate_type_multiplier(pokemon2[\"Type 2\"], pokemon1[\"Type 2\"]),\n",
        "    }\n",
        "\n",
        "    # Normalizar os dados de entrada\n",
        "    feature_df = pd.DataFrame([feature_diff])\n",
        "    feature_scaled = scaler.transform(feature_df)\n",
        "\n",
        "    # Fazer a predição\n",
        "    prediction = model.predict(feature_scaled)[0]\n",
        "\n",
        "    # Retornar o nome do Pokémon vencedor\n",
        "    return pokemon1[\"Name\"] if prediction == 1 else pokemon2[\"Name\"]\n",
        "\n",
        "# Teste com dois Pokémons aleatórios do conjunto de teste\n",
        "pokemon1 = pokemon_test_data.sample(1).iloc[0]  # Seleciona aleatoriamente um Pokémon do conjunto de teste\n",
        "pokemon2 = pokemon_test_data.sample(1).iloc[0]  # Seleciona outro Pokémon do conjunto de teste\n",
        "vencedor = predict_winner_svm(pokemon1, pokemon2, svm_model, scaler)\n",
        "\n",
        "print(f\"Batalha entre {pokemon1['Name']} e {pokemon2['Name']}\")\n",
        "print(f\"O vencedor previsto pelo SVM é: {vencedor}\")\n"
      ],
      "metadata": {
        "colab": {
          "base_uri": "https://localhost:8080/"
        },
        "id": "SOE64zd3-lBe",
        "outputId": "2b5d8613-f784-4388-e981-6f7c732911c3"
      },
      "execution_count": null,
      "outputs": [
        {
          "output_type": "stream",
          "name": "stdout",
          "text": [
            "Acurácia do modelo SVM: 97.26%\n",
            "Batalha entre Simisage e Golett\n",
            "O vencedor previsto pelo SVM é: Simisage\n"
          ]
        }
      ]
    }
  ]
}